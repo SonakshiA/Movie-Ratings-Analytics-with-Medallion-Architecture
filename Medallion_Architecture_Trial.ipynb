{
 "cells": [
  {
   "cell_type": "markdown",
   "metadata": {
    "application/vnd.databricks.v1+cell": {
     "cellMetadata": {},
     "inputWidgets": {},
     "nuid": "6c0b990b-7550-40b4-8f9f-a0a409ad81ad",
     "showTitle": false,
     "tableResultSettingsMap": {},
     "title": ""
    }
   },
   "source": [
    "## 📊 Movie Ratings Analytics with Medallion Architecture\n",
    "\n",
    "This project demonstrates the Medallion Architecture (Bronze → Silver → Gold) using the MovieLens Small Dataset\n",
    ".\n",
    "It showcases how raw data is ingested, cleaned, and transformed into analytics-ready tables for insights into movie ratings and genre popularity.\n",
    "\n",
    "## 🏗️ Architecture Overview\n",
    "\n",
    "**Bronze Layer 🪙**\n",
    "\n",
    "* Raw ingestion of CSV files (ratings.csv, movies.csv).\n",
    "* No transformations, schema-on-read.\n",
    "\n",
    "**Silver Layer 🥈**\n",
    "\n",
    "* Clean and curated data.\n",
    "* Data type casting, timestamp conversion, splitting genres.\n",
    "* Joined ratings + movies into a unified dataset.\n",
    "\n",
    "**Gold Layer 🥇**\n",
    "\n",
    "* Aggregated insights for business consumption: \n",
    "    * Top 10 movies by average rating (with ≥ 50 ratings).\n",
    "    * Most popular genres by rating count.\n",
    "    * Average rating per genre.\n",
    "\n",
    "## 📂 Dataset\n",
    "\n",
    "We use the [MovieLens Latest Small Dataset](https://grouplens.org/datasets/movielens/?utm_source=chatgpt.com):\n",
    "\n",
    "Files used in this project:\n",
    "* movies.csv → movieId, title, genres\n",
    "* ratings.csv → userId, movieId, rating, timestamp"
   ]
  },
  {
   "cell_type": "markdown",
   "metadata": {
    "application/vnd.databricks.v1+cell": {
     "cellMetadata": {},
     "inputWidgets": {},
     "nuid": "d228153a-e45e-4d0a-83bf-0f4ccf19ded6",
     "showTitle": false,
     "tableResultSettingsMap": {},
     "title": ""
    }
   },
   "source": [
    "**Get Secrets**"
   ]
  },
  {
   "cell_type": "code",
   "execution_count": 0,
   "metadata": {
    "application/vnd.databricks.v1+cell": {
     "cellMetadata": {
      "byteLimit": 2048000,
      "rowLimit": 10000
     },
     "inputWidgets": {},
     "nuid": "a2b04215-468f-40e4-90ee-9a908170d680",
     "showTitle": false,
     "tableResultSettingsMap": {},
     "title": ""
    }
   },
   "outputs": [],
   "source": [
    "app_secret = dbutils.secrets.get(scope = \"medallion-project-scope\", key = \"app-secret\")\n",
    "app_id = dbutils.secrets.get(scope = \"medallion-project-scope\", key = \"app-id\")\n",
    "tenant_id = dbutils.secrets.get(scope = \"medallion-project-scope\", key = \"tenant-id\")"
   ]
  },
  {
   "cell_type": "code",
   "execution_count": 0,
   "metadata": {
    "application/vnd.databricks.v1+cell": {
     "cellMetadata": {
      "byteLimit": 2048000,
      "rowLimit": 10000
     },
     "inputWidgets": {},
     "nuid": "c1c99866-8874-401d-a39c-6be56d6063f1",
     "showTitle": false,
     "tableResultSettingsMap": {},
     "title": ""
    }
   },
   "outputs": [],
   "source": [
    "spark.conf.set(\"fs.azure.account.auth.type.datalakesonakshi.dfs.core.windows.net\", \"OAuth\")\n",
    "spark.conf.set(\"fs.azure.account.oauth.provider.type.datalakesonakshi.dfs.core.windows.net\", \"org.apache.hadoop.fs.azurebfs.oauth2.ClientCredsTokenProvider\")\n",
    "spark.conf.set(\"fs.azure.account.oauth2.client.id.datalakesonakshi.dfs.core.windows.net\", app_id)\n",
    "spark.conf.set(\"fs.azure.account.oauth2.client.secret.datalakesonakshi.dfs.core.windows.net\", app_secret)\n",
    "spark.conf.set(\"fs.azure.account.oauth2.client.endpoint.datalakesonakshi.dfs.core.windows.net\", f\"https://login.microsoftonline.com/{tenant_id}/oauth2/token\")"
   ]
  },
  {
   "cell_type": "code",
   "execution_count": 0,
   "metadata": {
    "application/vnd.databricks.v1+cell": {
     "cellMetadata": {},
     "inputWidgets": {},
     "nuid": "95b0c1d6-ac36-4dda-a4d8-1c5825b372c5",
     "showTitle": false,
     "tableResultSettingsMap": {},
     "title": ""
    }
   },
   "outputs": [],
   "source": [
    "# log the notebook start time \n",
    "import time\n",
    "notebook_start_time = time.time()"
   ]
  },
  {
   "cell_type": "markdown",
   "metadata": {
    "application/vnd.databricks.v1+cell": {
     "cellMetadata": {
      "byteLimit": 2048000,
      "rowLimit": 10000
     },
     "inputWidgets": {},
     "nuid": "82082f98-88ef-4f23-af6d-88e2c89bcad4",
     "showTitle": false,
     "tableResultSettingsMap": {},
     "title": ""
    }
   },
   "source": [
    "# Bronze Layer"
   ]
  },
  {
   "cell_type": "markdown",
   "metadata": {
    "application/vnd.databricks.v1+cell": {
     "cellMetadata": {
      "byteLimit": 2048000,
      "rowLimit": 10000
     },
     "inputWidgets": {},
     "nuid": "ed4017f0-8c5c-4677-8f71-639db6c39e73",
     "showTitle": false,
     "tableResultSettingsMap": {},
     "title": ""
    }
   },
   "source": [
    "**Read Data**"
   ]
  },
  {
   "cell_type": "code",
   "execution_count": 0,
   "metadata": {
    "application/vnd.databricks.v1+cell": {
     "cellMetadata": {
      "byteLimit": 2048000,
      "rowLimit": 10000
     },
     "inputWidgets": {},
     "nuid": "8e187408-99df-49d3-8a7f-6568e09b531d",
     "showTitle": false,
     "tableResultSettingsMap": {},
     "title": ""
    }
   },
   "outputs": [],
   "source": [
    "bronze_movies = spark.read.format('csv') \\\n",
    "        .option('header',True) \\\n",
    "        .option('inferSchema', True) \\\n",
    "        .load('abfss://source@datalakesonakshi.dfs.core.windows.net/movies.csv')"
   ]
  },
  {
   "cell_type": "code",
   "execution_count": 0,
   "metadata": {
    "application/vnd.databricks.v1+cell": {
     "cellMetadata": {
      "byteLimit": 2048000,
      "rowLimit": 10000
     },
     "inputWidgets": {},
     "nuid": "c65c3116-c626-49a6-a743-b5db92e8e818",
     "showTitle": false,
     "tableResultSettingsMap": {},
     "title": ""
    }
   },
   "outputs": [],
   "source": [
    "bronze_ratings = spark.read.format('csv') \\\n",
    "    .option('header',True) \\\n",
    "    .option('inferSchema',True) \\\n",
    "    .load('abfss://source@datalakesonakshi.dfs.core.windows.net/ratings.csv')"
   ]
  },
  {
   "cell_type": "markdown",
   "metadata": {
    "application/vnd.databricks.v1+cell": {
     "cellMetadata": {
      "byteLimit": 2048000,
      "rowLimit": 10000
     },
     "inputWidgets": {},
     "nuid": "ab27ea9d-2485-48dd-939a-2d04c0f346fc",
     "showTitle": false,
     "tableResultSettingsMap": {},
     "title": ""
    }
   },
   "source": [
    "**Display Data**"
   ]
  },
  {
   "cell_type": "code",
   "execution_count": 0,
   "metadata": {
    "application/vnd.databricks.v1+cell": {
     "cellMetadata": {
      "byteLimit": 2048000,
      "rowLimit": 10000
     },
     "inputWidgets": {},
     "nuid": "de805bb8-af00-4e7a-b961-27500b69b644",
     "showTitle": false,
     "tableResultSettingsMap": {
      "0": {
       "dataGridStateBlob": "{\"version\":1,\"tableState\":{\"columnPinning\":{\"left\":[\"#row_number#\"],\"right\":[]},\"columnSizing\":{},\"columnVisibility\":{}},\"settings\":{\"columns\":{}},\"syncTimestamp\":1756703288128}",
       "filterBlob": null,
       "queryPlanFiltersBlob": null,
       "tableResultIndex": 0
      }
     },
     "title": ""
    }
   },
   "outputs": [],
   "source": [
    "display(bronze_movies)"
   ]
  },
  {
   "cell_type": "code",
   "execution_count": 0,
   "metadata": {
    "application/vnd.databricks.v1+cell": {
     "cellMetadata": {
      "byteLimit": 2048000,
      "rowLimit": 10000
     },
     "inputWidgets": {},
     "nuid": "6f689c1d-a046-4cbe-8a4b-d51f7b283f6e",
     "showTitle": false,
     "tableResultSettingsMap": {},
     "title": ""
    }
   },
   "outputs": [],
   "source": [
    "display(bronze_ratings)"
   ]
  },
  {
   "cell_type": "markdown",
   "metadata": {
    "application/vnd.databricks.v1+cell": {
     "cellMetadata": {
      "byteLimit": 2048000,
      "rowLimit": 10000
     },
     "inputWidgets": {},
     "nuid": "4182c1bf-9f8c-46b5-ab74-fb7f2ff71b2a",
     "showTitle": false,
     "tableResultSettingsMap": {},
     "title": ""
    }
   },
   "source": [
    "**Write/Save the data as parquet files**"
   ]
  },
  {
   "cell_type": "code",
   "execution_count": 0,
   "metadata": {
    "application/vnd.databricks.v1+cell": {
     "cellMetadata": {
      "byteLimit": 2048000,
      "rowLimit": 10000
     },
     "inputWidgets": {},
     "nuid": "05ddd4b5-867e-4028-8094-60e193f71801",
     "showTitle": false,
     "tableResultSettingsMap": {},
     "title": ""
    }
   },
   "outputs": [],
   "source": [
    "bronze_movies.write.format(\"delta\") \\\n",
    "    .mode(\"overwrite\") \\\n",
    "    .option(\"path\", \"abfss://destination@datalakesonakshi.dfs.core.windows.net/movies\") \\\n",
    "    .save()"
   ]
  },
  {
   "cell_type": "code",
   "execution_count": 0,
   "metadata": {
    "application/vnd.databricks.v1+cell": {
     "cellMetadata": {
      "byteLimit": 2048000,
      "rowLimit": 10000
     },
     "inputWidgets": {},
     "nuid": "c5df7632-7a9d-440b-a24c-3816446f4ac7",
     "showTitle": false,
     "tableResultSettingsMap": {},
     "title": ""
    }
   },
   "outputs": [],
   "source": [
    "bronze_ratings.write.format(\"delta\") \\\n",
    "    .mode(\"overwrite\") \\\n",
    "    .option(\"path\", \"abfss://destination@datalakesonakshi.dfs.core.windows.net/ratings\") \\\n",
    "    .save()"
   ]
  },
  {
   "cell_type": "markdown",
   "metadata": {
    "application/vnd.databricks.v1+cell": {
     "cellMetadata": {
      "byteLimit": 2048000,
      "rowLimit": 10000
     },
     "inputWidgets": {},
     "nuid": "96ba0860-e7c4-4ba0-a90e-c8de2788d4a5",
     "showTitle": false,
     "tableResultSettingsMap": {},
     "title": ""
    }
   },
   "source": [
    "# Silver Layer"
   ]
  },
  {
   "cell_type": "code",
   "execution_count": 0,
   "metadata": {
    "application/vnd.databricks.v1+cell": {
     "cellMetadata": {
      "byteLimit": 2048000,
      "rowLimit": 10000
     },
     "inputWidgets": {},
     "nuid": "3788a14e-7625-43e0-b9f0-6567741e31ea",
     "showTitle": false,
     "tableResultSettingsMap": {},
     "title": ""
    }
   },
   "outputs": [],
   "source": [
    "from pyspark.sql.functions import col, from_unixtime, split"
   ]
  },
  {
   "cell_type": "code",
   "execution_count": 0,
   "metadata": {
    "application/vnd.databricks.v1+cell": {
     "cellMetadata": {
      "byteLimit": 2048000,
      "rowLimit": 10000
     },
     "inputWidgets": {},
     "nuid": "e6edb4af-1438-433a-ad5e-fff2f3daf041",
     "showTitle": false,
     "tableResultSettingsMap": {},
     "title": ""
    }
   },
   "outputs": [],
   "source": [
    "# Read bronze data\n",
    "\n",
    "bronze_movies = spark.read.format(\"delta\").load(\"abfss://destination@datalakesonakshi.dfs.core.windows.net/movies\")\n",
    "bronze_ratings = spark.read.format(\"delta\").load(\"abfss://destination@datalakesonakshi.dfs.core.windows.net/ratings\")"
   ]
  },
  {
   "cell_type": "markdown",
   "metadata": {
    "application/vnd.databricks.v1+cell": {
     "cellMetadata": {},
     "inputWidgets": {},
     "nuid": "e1bcde4e-f531-48d2-9948-f70178635957",
     "showTitle": false,
     "tableResultSettingsMap": {},
     "title": ""
    }
   },
   "source": [
    "**Transform Data**"
   ]
  },
  {
   "cell_type": "code",
   "execution_count": 0,
   "metadata": {
    "application/vnd.databricks.v1+cell": {
     "cellMetadata": {
      "byteLimit": 2048000,
      "rowLimit": 10000
     },
     "inputWidgets": {},
     "nuid": "a33d304c-cb71-4acf-b03c-3b3563f7cf87",
     "showTitle": false,
     "tableResultSettingsMap": {},
     "title": ""
    }
   },
   "outputs": [],
   "source": [
    "silver_ratings = bronze_ratings.withColumn(\"rating\", col(\"rating\").cast(\"float\")) \\\n",
    "    .withColumn(\"timestamp\", col(\"timestamp\").cast(\"long\")) \\\n",
    "    .withColumn(\"rating_date\", from_unixtime(col(\"timestamp\")))\n",
    "\n",
    "display(silver_ratings)\n"
   ]
  },
  {
   "cell_type": "code",
   "execution_count": 0,
   "metadata": {
    "application/vnd.databricks.v1+cell": {
     "cellMetadata": {
      "byteLimit": 2048000,
      "rowLimit": 10000
     },
     "inputWidgets": {},
     "nuid": "ecb8ec49-7543-4cc7-9d11-8a6ada4d4157",
     "showTitle": false,
     "tableResultSettingsMap": {},
     "title": ""
    }
   },
   "outputs": [],
   "source": [
    "silver_movies = bronze_movies.withColumn(\"genres\", split(col(\"genres\"), \"\\\\|\"))\n",
    "\n",
    "display(silver_movies)"
   ]
  },
  {
   "cell_type": "code",
   "execution_count": 0,
   "metadata": {
    "application/vnd.databricks.v1+cell": {
     "cellMetadata": {
      "byteLimit": 2048000,
      "rowLimit": 10000
     },
     "inputWidgets": {},
     "nuid": "8dbdc560-d858-4f2d-8124-9150efd35047",
     "showTitle": false,
     "tableResultSettingsMap": {},
     "title": ""
    }
   },
   "outputs": [],
   "source": [
    "# join the two tables\n",
    "silver_ratings = silver_ratings.join(silver_movies, on=\"movieId\", how=\"inner\") \\\n",
    "    .select(\"userId\",\"movieId\",\"rating\",\"rating_date\",\"title\",\"genres\")\n",
    "display(silver_ratings)"
   ]
  },
  {
   "cell_type": "code",
   "execution_count": 0,
   "metadata": {
    "application/vnd.databricks.v1+cell": {
     "cellMetadata": {
      "byteLimit": 2048000,
      "rowLimit": 10000
     },
     "inputWidgets": {},
     "nuid": "d06265b1-bf7f-40a0-82c3-808bc15bdc9d",
     "showTitle": false,
     "tableResultSettingsMap": {},
     "title": ""
    }
   },
   "outputs": [],
   "source": [
    "# write the new joined table\n",
    "silver_ratings.write.format(\"delta\") \\\n",
    "    .mode(\"overwrite\") \\\n",
    "    .save(\"abfss://destination@datalakesonakshi.dfs.core.windows.net/ratings_movies\")"
   ]
  },
  {
   "cell_type": "markdown",
   "metadata": {
    "application/vnd.databricks.v1+cell": {
     "cellMetadata": {},
     "inputWidgets": {},
     "nuid": "54296489-e49f-402e-9c33-eafb0a9bc7a8",
     "showTitle": false,
     "tableResultSettingsMap": {},
     "title": ""
    }
   },
   "source": [
    "# Gold Layer"
   ]
  },
  {
   "cell_type": "code",
   "execution_count": 0,
   "metadata": {
    "application/vnd.databricks.v1+cell": {
     "cellMetadata": {
      "byteLimit": 2048000,
      "rowLimit": 10000
     },
     "inputWidgets": {},
     "nuid": "2767f887-66ef-44d1-9e55-1ad4aaa0814f",
     "showTitle": false,
     "tableResultSettingsMap": {},
     "title": ""
    }
   },
   "outputs": [],
   "source": [
    "from pyspark.sql.functions import count, avg, explode"
   ]
  },
  {
   "cell_type": "code",
   "execution_count": 0,
   "metadata": {
    "application/vnd.databricks.v1+cell": {
     "cellMetadata": {
      "byteLimit": 2048000,
      "rowLimit": 10000
     },
     "inputWidgets": {},
     "nuid": "c0857be8-ab84-4175-9fd6-1d839544d989",
     "showTitle": false,
     "tableResultSettingsMap": {},
     "title": ""
    }
   },
   "outputs": [],
   "source": [
    "silver_layer_data = spark.read.format(\"delta\").load(\"abfss://destination@datalakesonakshi.dfs.core.windows.net/ratings_movies\")\n",
    "display(silver_layer_data)"
   ]
  },
  {
   "cell_type": "code",
   "execution_count": 0,
   "metadata": {
    "application/vnd.databricks.v1+cell": {
     "cellMetadata": {
      "byteLimit": 2048000,
      "rowLimit": 10000
     },
     "inputWidgets": {},
     "nuid": "7e5023ee-f1e3-4e4c-b044-c24cf4f4e576",
     "showTitle": false,
     "tableResultSettingsMap": {},
     "title": ""
    }
   },
   "outputs": [],
   "source": [
    "top_movies = silver_layer_data.groupBy(\"movieId\", \"title\") \\\n",
    "    .agg(count(\"rating\").alias(\"total_ratings\"), avg(\"rating\").alias(\"avg_rating\")) \\\n",
    "    .filter(col(\"total_ratings\")>=50) \\\n",
    "    .orderBy(col(\"avg_rating\").desc())\n",
    "\n",
    "top_movies.show(10, truncate=False)"
   ]
  },
  {
   "cell_type": "code",
   "execution_count": 0,
   "metadata": {
    "application/vnd.databricks.v1+cell": {
     "cellMetadata": {
      "byteLimit": 2048000,
      "rowLimit": 10000
     },
     "inputWidgets": {},
     "nuid": "004fc64e-5fd2-439a-b1fe-e431ca207ac6",
     "showTitle": false,
     "tableResultSettingsMap": {},
     "title": ""
    }
   },
   "outputs": [],
   "source": [
    "popular_genres = silver_layer_data.groupBy(\"genres\") \\\n",
    "    .agg(count(\"rating\").alias(\"total_ratings\"), avg(\"rating\").alias(\"avg_rating\")) \\\n",
    "    .orderBy(col(\"total_ratings\").desc())\n",
    "\n",
    "\n",
    "popular_genres.show(10,truncate=False)"
   ]
  },
  {
   "cell_type": "code",
   "execution_count": 0,
   "metadata": {
    "application/vnd.databricks.v1+cell": {
     "cellMetadata": {
      "byteLimit": 2048000,
      "rowLimit": 10000
     },
     "inputWidgets": {},
     "nuid": "64c6c199-5dbe-4034-9bd3-d514b5fb0a07",
     "showTitle": false,
     "tableResultSettingsMap": {},
     "title": ""
    }
   },
   "outputs": [],
   "source": [
    "# write the gold layer data\n",
    "top_movies.write.format(\"delta\") \\\n",
    "    .mode(\"overwrite\") \\\n",
    "    .save(\"abfss://destination@datalakesonakshi.dfs.core.windows.net/top_movies\")\n",
    "\n",
    "popular_genres.write.format(\"delta\") \\\n",
    "    .mode(\"overwrite\") \\\n",
    "    .save(\"abfss://destination@datalakesonakshi.dfs.core.windows.net/popular_genres\")"
   ]
  },
  {
   "cell_type": "code",
   "execution_count": 0,
   "metadata": {
    "application/vnd.databricks.v1+cell": {
     "cellMetadata": {},
     "inputWidgets": {},
     "nuid": "1fc7668e-0c71-4220-b46c-8f0849bfe46b",
     "showTitle": false,
     "tableResultSettingsMap": {},
     "title": ""
    }
   },
   "outputs": [],
   "source": [
    "# log the notebook end time\n",
    "notebook_end_time = time.time()\n",
    "total_notebook_runtime = notebook_end_time - notebook_start_time\n",
    "\n",
    "print(f\"Elapsed time: {total_notebook_runtime:.2f} seconds\")"
   ]
  }
 ],
 "metadata": {
  "application/vnd.databricks.v1+notebook": {
   "computePreferences": null,
   "dashboards": [],
   "environmentMetadata": {
    "base_environment": "",
    "environment_version": "3"
   },
   "inputWidgetPreferences": null,
   "language": "python",
   "notebookMetadata": {
    "pythonIndentUnit": 4
   },
   "notebookName": "Medallion_Architecture_Trial",
   "widgets": {}
  },
  "language_info": {
   "name": "python"
  }
 },
 "nbformat": 4,
 "nbformat_minor": 0
}
